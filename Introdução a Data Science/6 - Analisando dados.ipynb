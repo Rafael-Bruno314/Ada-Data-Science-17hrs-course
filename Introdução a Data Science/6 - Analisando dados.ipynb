{
 "cells": [
  {
   "cell_type": "code",
   "execution_count": 1,
   "id": "d4749891-f0d9-4d6c-850c-3bf55c978d7f",
   "metadata": {},
   "outputs": [],
   "source": [
    "import pandas as pd"
   ]
  },
  {
   "cell_type": "code",
   "execution_count": 14,
   "id": "569f9587-c93f-4b48-9138-9f98cc0e1ee7",
   "metadata": {},
   "outputs": [
    {
     "data": {
      "text/html": [
       "<div>\n",
       "<style scoped>\n",
       "    .dataframe tbody tr th:only-of-type {\n",
       "        vertical-align: middle;\n",
       "    }\n",
       "\n",
       "    .dataframe tbody tr th {\n",
       "        vertical-align: top;\n",
       "    }\n",
       "\n",
       "    .dataframe thead th {\n",
       "        text-align: right;\n",
       "    }\n",
       "</style>\n",
       "<table border=\"1\" class=\"dataframe\">\n",
       "  <thead>\n",
       "    <tr style=\"text-align: right;\">\n",
       "      <th></th>\n",
       "      <th>FOOD NAME</th>\n",
       "      <th>SCIENTIFIC NAME</th>\n",
       "      <th>GROUP</th>\n",
       "      <th>SUB GROUP</th>\n",
       "    </tr>\n",
       "  </thead>\n",
       "  <tbody>\n",
       "    <tr>\n",
       "      <th>0</th>\n",
       "      <td>Angelica</td>\n",
       "      <td>Angelica keiskei</td>\n",
       "      <td>Herbs and Spices</td>\n",
       "      <td>Herbs</td>\n",
       "    </tr>\n",
       "    <tr>\n",
       "      <th>1</th>\n",
       "      <td>Savoy cabbage</td>\n",
       "      <td>Brassica oleracea var. sabauda</td>\n",
       "      <td>Vegetables</td>\n",
       "      <td>Cabbages</td>\n",
       "    </tr>\n",
       "    <tr>\n",
       "      <th>2</th>\n",
       "      <td>Silver linden</td>\n",
       "      <td>Tilia argentea</td>\n",
       "      <td>Herbs and Spices</td>\n",
       "      <td>Herbs</td>\n",
       "    </tr>\n",
       "    <tr>\n",
       "      <th>3</th>\n",
       "      <td>Kiwi</td>\n",
       "      <td>Actinidia chinensis</td>\n",
       "      <td>Fruits</td>\n",
       "      <td>Tropical fruits</td>\n",
       "    </tr>\n",
       "    <tr>\n",
       "      <th>4</th>\n",
       "      <td>Allium (Onion)</td>\n",
       "      <td>Allium</td>\n",
       "      <td>Vegetables</td>\n",
       "      <td>Onion-family vegetables</td>\n",
       "    </tr>\n",
       "  </tbody>\n",
       "</table>\n",
       "</div>"
      ],
      "text/plain": [
       "        FOOD NAME                 SCIENTIFIC NAME             GROUP  \\\n",
       "0        Angelica                Angelica keiskei  Herbs and Spices   \n",
       "1   Savoy cabbage  Brassica oleracea var. sabauda        Vegetables   \n",
       "2   Silver linden                  Tilia argentea  Herbs and Spices   \n",
       "3            Kiwi             Actinidia chinensis            Fruits   \n",
       "4  Allium (Onion)                          Allium        Vegetables   \n",
       "\n",
       "                 SUB GROUP  \n",
       "0                    Herbs  \n",
       "1                 Cabbages  \n",
       "2                    Herbs  \n",
       "3          Tropical fruits  \n",
       "4  Onion-family vegetables  "
      ]
     },
     "execution_count": 14,
     "metadata": {},
     "output_type": "execute_result"
    }
   ],
   "source": [
    "foods = pd.read_csv('generic-food.csv')\n",
    "\n",
    "foods.head()"
   ]
  },
  {
   "cell_type": "code",
   "execution_count": 19,
   "id": "37d6de41-6064-456f-ab38-26a19b4e5bac",
   "metadata": {},
   "outputs": [
    {
     "data": {
      "text/plain": [
       "GROUP\n",
       "Aquatic foods                  166\n",
       "Vegetables                     130\n",
       "Fruits                         130\n",
       "Herbs and Spices               108\n",
       "Dishes                          51\n",
       "Cereals and cereal products     48\n",
       "Animal foods                    44\n",
       "Baking goods                    33\n",
       "Beverages                       30\n",
       "Confectioneries                 29\n",
       "Nuts                            27\n",
       "Pulses                          26\n",
       "Milk and milk products          23\n",
       "Gourds                          17\n",
       "Soy                              9\n",
       "Cocoa and cocoa products         8\n",
       "Snack foods                      8\n",
       "Fats and oils                    8\n",
       "Coffee and coffee products       5\n",
       "Teas                             3\n",
       "Eggs                             1\n",
       "Baby foods                       1\n",
       "Unclassified                     1\n",
       "Herbs and spices                 1\n",
       "Name: count, dtype: int64"
      ]
     },
     "execution_count": 19,
     "metadata": {},
     "output_type": "execute_result"
    }
   ],
   "source": [
    "foods['GROUP'].value_counts()"
   ]
  },
  {
   "cell_type": "code",
   "execution_count": 27,
   "id": "62356feb-fbf3-4a5b-bcba-d8d15230b9a3",
   "metadata": {},
   "outputs": [
    {
     "data": {
      "text/plain": [
       "<pandas.core.groupby.generic.SeriesGroupBy object at 0x0000016027A24A10>"
      ]
     },
     "execution_count": 27,
     "metadata": {},
     "output_type": "execute_result"
    }
   ],
   "source": [
    "foods.groupby(['GROUP'])['FOOD NAME']"
   ]
  }
 ],
 "metadata": {
  "kernelspec": {
   "display_name": "Python 3 (ipykernel)",
   "language": "python",
   "name": "python3"
  },
  "language_info": {
   "codemirror_mode": {
    "name": "ipython",
    "version": 3
   },
   "file_extension": ".py",
   "mimetype": "text/x-python",
   "name": "python",
   "nbconvert_exporter": "python",
   "pygments_lexer": "ipython3",
   "version": "3.12.3"
  }
 },
 "nbformat": 4,
 "nbformat_minor": 5
}
