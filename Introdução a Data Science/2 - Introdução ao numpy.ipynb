{
 "cells": [
  {
   "cell_type": "code",
   "execution_count": 1,
   "id": "adaf90bb-5a29-4bb5-9855-e3cb81093409",
   "metadata": {},
   "outputs": [],
   "source": [
    "import numpy as np"
   ]
  },
  {
   "cell_type": "code",
   "execution_count": 4,
   "id": "227f9abb-5641-42f7-8f46-f30cbfe0eed4",
   "metadata": {},
   "outputs": [
    {
     "name": "stdout",
     "output_type": "stream",
     "text": [
      "[1, 2, 3, 4, 5]\n",
      "[1 2 3 4 5]\n",
      "<class 'list'>\n",
      "<class 'numpy.ndarray'>\n"
     ]
    }
   ],
   "source": [
    "lista = [1,2,3,4,5]\n",
    "\n",
    "array = np.array(lista)\n",
    "\n",
    "print(lista)\n",
    "print(array)\n",
    "\n",
    "print(type(lista))\n",
    "print(type(array))"
   ]
  },
  {
   "cell_type": "code",
   "execution_count": 5,
   "id": "55771437-ab82-4253-8d0d-6a81f9e5d192",
   "metadata": {},
   "outputs": [
    {
     "name": "stdout",
     "output_type": "stream",
     "text": [
      "[0. 0. 0. 0. 0. 0. 0. 0. 0. 0.]\n"
     ]
    }
   ],
   "source": [
    "arr_zeros = np.zeros(10)\n",
    "\n",
    "print(arr_zeros)"
   ]
  },
  {
   "cell_type": "code",
   "execution_count": 6,
   "id": "73a3062c-9343-4937-a088-5b8c55f23eff",
   "metadata": {},
   "outputs": [
    {
     "name": "stdout",
     "output_type": "stream",
     "text": [
      "[9 2 3 4 5]\n"
     ]
    }
   ],
   "source": [
    "array[0] = 9\n",
    "\n",
    "print(array)"
   ]
  },
  {
   "cell_type": "code",
   "execution_count": 9,
   "id": "c560e311-0e1a-4936-8964-c9f42f33b36e",
   "metadata": {},
   "outputs": [
    {
     "name": "stdout",
     "output_type": "stream",
     "text": [
      "[[0. 0. 0.]\n",
      " [0. 0. 0.]\n",
      " [0. 0. 0.]\n",
      " [0. 0. 0.]\n",
      " [0. 0. 0.]]\n"
     ]
    }
   ],
   "source": [
    "matriz_zeros = np.zeros((5,3))\n",
    "\n",
    "print(matriz_zeros)"
   ]
  },
  {
   "cell_type": "code",
   "execution_count": 10,
   "id": "325bfb3a-31f3-449f-bef2-d6c1c4b6259f",
   "metadata": {},
   "outputs": [],
   "source": [
    "lista_de_notas = [9.8, 5.6, 7.4, 3.2, 8.5]\n",
    "\n",
    "notas = np.array(lista_de_notas)"
   ]
  },
  {
   "cell_type": "code",
   "execution_count": 12,
   "id": "114080b3-1a15-446f-9cd0-39781490cedb",
   "metadata": {},
   "outputs": [
    {
     "name": "stdout",
     "output_type": "stream",
     "text": [
      "Máxima 9.8\n",
      "Mínima 3.2\n",
      "Desvio padrão 2.3065125189341593\n",
      "Média 6.9\n",
      "Posição da menor nota 3\n"
     ]
    }
   ],
   "source": [
    "print('Máxima', notas.max())\n",
    "print('Mínima', notas.min())\n",
    "print('Desvio padrão', notas.std())\n",
    "print('Média', notas.mean())\n",
    "print('Posição da menor nota', notas.argmin()) #começa no 0"
   ]
  }
 ],
 "metadata": {
  "kernelspec": {
   "display_name": "Python 3 (ipykernel)",
   "language": "python",
   "name": "python3"
  },
  "language_info": {
   "codemirror_mode": {
    "name": "ipython",
    "version": 3
   },
   "file_extension": ".py",
   "mimetype": "text/x-python",
   "name": "python",
   "nbconvert_exporter": "python",
   "pygments_lexer": "ipython3",
   "version": "3.12.3"
  }
 },
 "nbformat": 4,
 "nbformat_minor": 5
}
