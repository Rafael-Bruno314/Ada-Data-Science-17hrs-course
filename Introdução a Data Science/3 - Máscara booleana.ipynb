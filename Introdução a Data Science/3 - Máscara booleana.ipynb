{
 "cells": [
  {
   "cell_type": "code",
   "execution_count": 1,
   "id": "f2fed5ad-198a-4aa5-8851-b5776b77694e",
   "metadata": {},
   "outputs": [],
   "source": [
    "import numpy as np"
   ]
  },
  {
   "cell_type": "code",
   "execution_count": 3,
   "id": "abe556a8-9433-4071-ae36-13b1bc3b2cf7",
   "metadata": {},
   "outputs": [
    {
     "name": "stdout",
     "output_type": "stream",
     "text": [
      "['Yes' 'No' 'No' 'Yes' 'No']\n"
     ]
    }
   ],
   "source": [
    "is_covid_positive = np.array(['Yes','No','No', 'Yes', 'No'])\n",
    "\n",
    "print(is_covid_positive)"
   ]
  },
  {
   "cell_type": "code",
   "execution_count": 6,
   "id": "abfe2ede-1629-4f86-ae80-2fa69e7e6803",
   "metadata": {},
   "outputs": [
    {
     "name": "stdout",
     "output_type": "stream",
     "text": [
      "[ True False False  True False]\n"
     ]
    }
   ],
   "source": [
    "mask = (is_covid_positive == 'Yes')\n",
    "\n",
    "print(mask)"
   ]
  },
  {
   "cell_type": "code",
   "execution_count": 8,
   "id": "df1791c1-3f1c-4756-8ded-4dbc1d4ba9a2",
   "metadata": {},
   "outputs": [
    {
     "name": "stdout",
     "output_type": "stream",
     "text": [
      "['C19' 'No' 'No' 'C19' 'No']\n"
     ]
    }
   ],
   "source": [
    "is_covid_positive[mask] = 'C19'\n",
    "\n",
    "print(is_covid_positive)"
   ]
  },
  {
   "cell_type": "code",
   "execution_count": 11,
   "id": "6fc7d5d8-f3b3-4bbf-a19b-a15deca67c51",
   "metadata": {},
   "outputs": [
    {
     "name": "stdout",
     "output_type": "stream",
     "text": [
      "[False False  True False]\n"
     ]
    }
   ],
   "source": [
    "notas = np.array([4.9,3.2,5.6,2.4])\n",
    "\n",
    "mask_notas = notas >= 5\n",
    "\n",
    "print(mask_notas)"
   ]
  }
 ],
 "metadata": {
  "kernelspec": {
   "display_name": "Python 3 (ipykernel)",
   "language": "python",
   "name": "python3"
  },
  "language_info": {
   "codemirror_mode": {
    "name": "ipython",
    "version": 3
   },
   "file_extension": ".py",
   "mimetype": "text/x-python",
   "name": "python",
   "nbconvert_exporter": "python",
   "pygments_lexer": "ipython3",
   "version": "3.12.3"
  }
 },
 "nbformat": 4,
 "nbformat_minor": 5
}
