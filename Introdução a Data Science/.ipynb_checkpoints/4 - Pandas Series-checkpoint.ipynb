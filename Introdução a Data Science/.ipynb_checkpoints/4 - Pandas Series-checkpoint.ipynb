{
 "cells": [
  {
   "cell_type": "code",
   "execution_count": 1,
   "id": "08c27d3d-ba8a-4d40-8053-24a6b6c37f13",
   "metadata": {},
   "outputs": [],
   "source": [
    "import pandas as pd"
   ]
  },
  {
   "cell_type": "code",
   "execution_count": 3,
   "id": "e27bc148-8f4c-4a5a-b82b-ee4151634166",
   "metadata": {},
   "outputs": [
    {
     "name": "stdout",
     "output_type": "stream",
     "text": [
      "0    12\n",
      "1    23\n",
      "2    34\n",
      "3    56\n",
      "4    67\n",
      "5    78\n",
      "dtype: int64\n"
     ]
    }
   ],
   "source": [
    "lista = [12,23,34,56,67,78]\n",
    "\n",
    "serie_pandas = pd.Series(lista)\n",
    "\n",
    "print(serie_pandas)"
   ]
  },
  {
   "cell_type": "code",
   "execution_count": 4,
   "id": "c8d41432-532b-4a0a-9cec-bc025716f82a",
   "metadata": {},
   "outputs": [
    {
     "name": "stdout",
     "output_type": "stream",
     "text": [
      "12\n"
     ]
    }
   ],
   "source": [
    "print(serie_pandas[0])"
   ]
  },
  {
   "cell_type": "code",
   "execution_count": 6,
   "id": "a68ae255-1361-4dc5-b9d5-fa91bda7918a",
   "metadata": {},
   "outputs": [
    {
     "name": "stdout",
     "output_type": "stream",
     "text": [
      "Thiago       8.0\n",
      "Guilherme    9.5\n",
      "Juca         6.2\n",
      "dtype: float64\n"
     ]
    }
   ],
   "source": [
    "notas = {'Thiago': 8, 'Guilherme':9.5, 'Juca': 6.2}\n",
    "\n",
    "serie_notas = pd.Series(notas)\n",
    "\n",
    "print(serie_notas)"
   ]
  },
  {
   "cell_type": "code",
   "execution_count": 8,
   "id": "b079daf0-ee83-4132-a442-52cf6dba3ac6",
   "metadata": {},
   "outputs": [
    {
     "name": "stdout",
     "output_type": "stream",
     "text": [
      "8.0\n"
     ]
    }
   ],
   "source": [
    "print(serie_notas['Thiago'])"
   ]
  },
  {
   "cell_type": "code",
   "execution_count": 13,
   "id": "fd7cca82-74a5-46e3-9e20-eb896f15fd7e",
   "metadata": {},
   "outputs": [
    {
     "data": {
      "text/plain": [
       "count    3.000000\n",
       "mean     7.900000\n",
       "std      1.652271\n",
       "min      6.200000\n",
       "25%      7.100000\n",
       "50%      8.000000\n",
       "75%      8.750000\n",
       "max      9.500000\n",
       "dtype: float64"
      ]
     },
     "execution_count": 13,
     "metadata": {},
     "output_type": "execute_result"
    }
   ],
   "source": [
    "serie_notas.describe()"
   ]
  }
 ],
 "metadata": {
  "kernelspec": {
   "display_name": "Python 3 (ipykernel)",
   "language": "python",
   "name": "python3"
  },
  "language_info": {
   "codemirror_mode": {
    "name": "ipython",
    "version": 3
   },
   "file_extension": ".py",
   "mimetype": "text/x-python",
   "name": "python",
   "nbconvert_exporter": "python",
   "pygments_lexer": "ipython3",
   "version": "3.12.3"
  }
 },
 "nbformat": 4,
 "nbformat_minor": 5
}
